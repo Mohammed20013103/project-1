{
 "cells": [
  {
   "cell_type": "markdown",
   "id": "ee99aff7-4792-4a2b-898a-1dc6c810e2bb",
   "metadata": {},
   "source": [
    "# Data Science Tools and Ecosystem"
   ]
  },
  {
   "cell_type": "markdown",
   "id": "8976b964-bc57-499b-9dd0-f70261be8839",
   "metadata": {},
   "source": [
    "In this notebook, Data Science Tools and Ecosystem are summarized."
   ]
  },
  {
   "cell_type": "markdown",
   "id": "266c3709-8108-4f1f-ae5f-6276f6aba34a",
   "metadata": {},
   "source": [
    "# Objectives:\n",
    "\n",
    "   - Python\n",
    "   - R\n",
    "   - SQL\n",
    "    "
   ]
  },
  {
   "cell_type": "code",
   "execution_count": null,
   "id": "0f12d608-4137-49ef-b86b-2b1d5f99e7c6",
   "metadata": {},
   "outputs": [],
   "source": [
    "# Some of the popular languages that Data Scientists use are:\n",
    "\n",
    "languages = [\"Python\", \"R\", \"SQL\"]\n",
    "\n"
   ]
  },
  {
   "cell_type": "markdown",
   "id": "0a893cd1-5714-4af8-a266-51e5e0f5e6ad",
   "metadata": {},
   "source": [
    "\n",
    "# Some of the commonly used libraries used by Data Scientists include:\n",
    "\n",
    "1. **NumPy**: A library for working with large, multi-dimensional arrays and matrices, as well as a large collection of high-level mathematical functions to operate on these arrays.\n",
    "\n",
    "2. **Pandas**: A library for data manipulation and analysis, providing data structures for efficiently storing and manipulating large datasets.\n",
    "\n",
    "3. **Matplotlib**: A library for creating static, animated, and interactive visualizations in Python. It allows you to create a wide range of plots, from simple scatter plots to complex contour plots.\n",
    "\n"
   ]
  },
  {
   "cell_type": "markdown",
   "id": "af91f422-9632-4e65-a377-741f24d1d5e4",
   "metadata": {},
   "source": [
    "\n",
    "| Data Science Tools |\n",
    "| -------------|\n",
    "| Jupyter Notebook |\n",
    "| Visual Studio Code |\n",
    "| Spyder |\n"
   ]
  },
  {
   "cell_type": "markdown",
   "id": "e6480fcc-cafa-4a95-8bfd-cb055b50c2e3",
   "metadata": {},
   "source": [
    "### Below are a few examples of evaluating arithmetic expressions in Python.\n"
   ]
  },
  {
   "cell_type": "code",
   "execution_count": 11,
   "id": "46c33331-6358-47c9-8c18-fd4c618cf6a4",
   "metadata": {
    "tags": []
   },
   "outputs": [
    {
     "data": {
      "text/plain": [
       "17"
      ]
     },
     "execution_count": 11,
     "metadata": {},
     "output_type": "execute_result"
    }
   ],
   "source": [
    "# This a simple arithmetic expression to mutiply then add integers\n",
    "\n",
    "(3*4)+5\n"
   ]
  },
  {
   "cell_type": "code",
   "execution_count": 12,
   "id": "464b3dc7-7b5e-49cc-8350-c3260f967ae7",
   "metadata": {},
   "outputs": [
    {
     "name": "stdout",
     "output_type": "stream",
     "text": [
      "3.3333333333333335\n"
     ]
    }
   ],
   "source": [
    "# This will convert 200 minutes to hours by diving by 60\n",
    "h = 200/60\n",
    "print(h)"
   ]
  },
  {
   "cell_type": "markdown",
   "id": "ee3940bd-3dab-4725-a554-f24bfdc2af25",
   "metadata": {},
   "source": [
    "## Author \n",
    "   lamsiah mohammed"
   ]
  },
  {
   "cell_type": "code",
   "execution_count": null,
   "id": "231338cf-dfa3-4a48-a26b-aabf31e01994",
   "metadata": {},
   "outputs": [],
   "source": []
  }
 ],
 "metadata": {
  "kernelspec": {
   "display_name": "Python 3 (ipykernel)",
   "language": "python",
   "name": "python3"
  },
  "language_info": {
   "codemirror_mode": {
    "name": "ipython",
    "version": 3
   },
   "file_extension": ".py",
   "mimetype": "text/x-python",
   "name": "python",
   "nbconvert_exporter": "python",
   "pygments_lexer": "ipython3",
   "version": "3.10.9"
  }
 },
 "nbformat": 4,
 "nbformat_minor": 5
}
